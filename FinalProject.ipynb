{
 "cells": [
  {
   "cell_type": "markdown",
   "id": "d5eac600-3d5f-4fae-88c9-efc603b1d03a",
   "metadata": {},
   "source": [
    "# What is Dash?"
   ]
  },
  {
   "cell_type": "markdown",
   "id": "6fe6791f-6523-4f36-bd68-18e2ed819c9a",
   "metadata": {},
   "source": [
    "### Dash is an open source python framework for building data science and machine learning web applications. It is built on top of Plotly, Flask, and React.\n",
    "### Provides UI features directly into your python code. \n",
    "### https://dash.plotly.com"
   ]
  },
  {
   "cell_type": "markdown",
   "id": "2040a8b7-691e-460c-9e59-ca5fdad4fd1a",
   "metadata": {
    "jp-MarkdownHeadingCollapsed": true
   },
   "source": [
    "### pip install dash"
   ]
  },
  {
   "cell_type": "markdown",
   "id": "8e570d9b-6d53-4c61-ab77-7848f4e74e28",
   "metadata": {},
   "source": [
    "## Beginning of an app"
   ]
  },
  {
   "cell_type": "code",
   "execution_count": 1,
   "id": "1d715ab8-7e92-4271-9367-9b572b44445c",
   "metadata": {},
   "outputs": [],
   "source": [
    "from dash import Dash, html\n",
    "\n",
    "# initialize app\n",
    "app = Dash()\n",
    "\n",
    "# define layout\n",
    "app.layout = [html.Div()]\n",
    "\n",
    "# run app\n",
    "if __name__ == '__main__':\n",
    "    app.run(debug=True)"
   ]
  },
  {
   "cell_type": "markdown",
   "id": "16f8196e-52b2-4cfb-8bc0-e49a008fa580",
   "metadata": {},
   "source": [
    "## App with Data"
   ]
  },
  {
   "cell_type": "code",
   "execution_count": 7,
   "id": "e34b2bcd-b4be-4cf4-98ee-fcbae105a87d",
   "metadata": {},
   "outputs": [],
   "source": [
    "from dash import Dash, html, dash_table\n",
    "import pandas as pd\n",
    "\n",
    "# read csv\n",
    "df = pd.read_csv('https://raw.githubusercontent.com/roualdes/data/refs/heads/master/penguins.csv')\n",
    "\n",
    "# initialize app\n",
    "app = Dash()\n",
    "\n",
    "# define layout \n",
    "app.layout = html.Div([\n",
    "    dash_table.DataTable(\n",
    "        data=df.to_dict('records'), # convert panda df to use in dash data table\n",
    "        page_size=10, # num of rows\n",
    "        editable=True, # make values editable\n",
    "        columns=[{'name': col, 'id': col, 'editable': True} for col in df.columns] # define column names and ids\n",
    "    )\n",
    "])\n",
    "\n",
    "# run app\n",
    "if __name__ == '__main__':\n",
    "    app.run(debug=True)"
   ]
  },
  {
   "cell_type": "markdown",
   "id": "e6f008ac-0c30-40d8-82b3-e918b6b802c2",
   "metadata": {},
   "source": [
    "## App with Data and Graph"
   ]
  },
  {
   "cell_type": "code",
   "execution_count": 9,
   "id": "4560b330-3ca9-477f-a0aa-00ed757e5955",
   "metadata": {},
   "outputs": [],
   "source": [
    "from dash import Dash, html, dash_table, dcc\n",
    "import pandas as pd\n",
    "import plotly.express as px\n",
    "\n",
    "# read csv\n",
    "df = pd.read_csv('https://raw.githubusercontent.com/roualdes/data/refs/heads/master/penguins.csv')\n",
    "\n",
    "# initialize app\n",
    "app = Dash()\n",
    "\n",
    "# define app layout\n",
    "app.layout = [\n",
    "    dcc.Graph(figure=px.violin(df, x='species', y='body_mass_g', color='species'))\n",
    "]\n",
    "\n",
    "# run app\n",
    "if __name__ == '__main__':\n",
    "    app.run(debug=True)\n",
    "\n"
   ]
  },
  {
   "cell_type": "markdown",
   "id": "34c7c63c-6778-4ddd-b4b8-c5e8ef4466aa",
   "metadata": {},
   "source": [
    "## App with Data, Graph, and Controls"
   ]
  },
  {
   "cell_type": "code",
   "execution_count": 19,
   "id": "72ab02df-a386-463d-a788-c4c14981f48f",
   "metadata": {
    "scrolled": true
   },
   "outputs": [],
   "source": [
    "from dash import Dash, html, dash_table, dcc, callback, Output, Input\n",
    "import pandas as pd\n",
    "\n",
    "# read csv\n",
    "df = pd.read_csv('https://raw.githubusercontent.com/roualdes/data/refs/heads/master/penguins.csv')\n",
    "\n",
    "# initialize app\n",
    "app = Dash()\n",
    "\n",
    "# define app layout\n",
    "app.layout = [\n",
    "    html.Div(),\n",
    "    html.Hr(),\n",
    "    dcc.RadioItems(options=['body_mass_g', 'bill_depth_mm', 'bill_length_mm'], value='body_mass_g', id='penguin-controls'),\n",
    "    dcc.Graph(figure={}, id='graph')\n",
    "]\n",
    "\n",
    "# add controls to update graph output based on user input\n",
    "@callback(\n",
    "    Output(component_id='graph', component_property='figure'),\n",
    "    Input(component_id='penguin-controls', component_property='value')\n",
    ")\n",
    "\n",
    "def update_graph(val_chosen):\n",
    "    fig = px.box(df, x='species', y=val_chosen) # build graph based off value chosen\n",
    "    return fig\n",
    "\n",
    "# run app\n",
    "if __name__ == '__main__':\n",
    "    app.run(debug=True)"
   ]
  },
  {
   "cell_type": "markdown",
   "id": "8f869c35-b715-4b75-83d5-f1d726b4c9df",
   "metadata": {},
   "source": [
    "## App with Data, Graph, and Drop Down"
   ]
  },
  {
   "cell_type": "code",
   "execution_count": 21,
   "id": "122900bf-414d-49f4-922f-24ec9c0e2fcc",
   "metadata": {
    "scrolled": true
   },
   "outputs": [],
   "source": [
    "from dash import Dash, html, dcc, callback, Output, Input\n",
    "import pandas as pd\n",
    "\n",
    "# read csv\n",
    "df = pd.read_csv('https://raw.githubusercontent.com/roualdes/data/refs/heads/master/penguins.csv')\n",
    "\n",
    "# initialize app\n",
    "app = Dash()\n",
    "\n",
    "# define app layout\n",
    "app.layout = html.Div([\n",
    "    html.Hr(),\n",
    "    dcc.Dropdown(\n",
    "        options=[\n",
    "            {'label': 'Body Mass (g)', 'value': 'body_mass_g'},\n",
    "            {'label': 'Bill Depth (mm)', 'value': 'bill_depth_mm'},\n",
    "            {'label': 'Bill Length (mm)', 'value': 'bill_length_mm'},\n",
    "            {'label': 'Flipper Length (mm)', 'value': 'flipper_length_mm'},\n",
    "        ],\n",
    "        value='body_mass_g',\n",
    "        id='dropdown',\n",
    "    ),\n",
    "    dcc.Graph(figure={}, id='graph')\n",
    "])\n",
    "\n",
    "# input and output controls to update based off user input\n",
    "@callback(\n",
    "    Output(component_id='graph', component_property='figure'),\n",
    "    Input(component_id='dropdown', component_property='value')\n",
    ")\n",
    "def update_graph(val_chosen):\n",
    "    fig = px.strip(df, x='species', y=val_chosen) # build graph based off species and attribute selected\n",
    "    return fig\n",
    "\n",
    "# run app\n",
    "if __name__ == '__main__':\n",
    "    app.run(debug=True)"
   ]
  },
  {
   "cell_type": "markdown",
   "id": "047b06d8-6638-4c5e-a7c6-d72288e6de76",
   "metadata": {},
   "source": [
    "## App with Data, Graph, and Search"
   ]
  },
  {
   "cell_type": "code",
   "execution_count": 23,
   "id": "015f0042-fcfc-48c3-8f6e-ffe3d34705b4",
   "metadata": {},
   "outputs": [],
   "source": [
    "from dash import Dash, html, dcc, callback, Output, Input\n",
    "import pandas as pd\n",
    "import plotly.express as px\n",
    "\n",
    "# Read csv\n",
    "df = pd.read_csv('https://raw.githubusercontent.com/roualdes/data/refs/heads/master/penguins.csv')\n",
    "\n",
    "# initialized app\n",
    "app = Dash()\n",
    "\n",
    "# define the layout \n",
    "app.layout = html.Div([\n",
    "    html.Hr(),\n",
    "        dcc.Input(\n",
    "        id='search-species',\n",
    "        type='text',\n",
    "    ),\n",
    "    dcc.Graph(figure={}, id='graph')\n",
    "])\n",
    "\n",
    "# input and output controls to change output based on user input\n",
    "@callback(\n",
    "    Output(component_id='graph', component_property='figure'),\n",
    "    Input(component_id='search-species', component_property='value')\n",
    ")\n",
    "def update_graph(searched_species):\n",
    "\n",
    "    if not searched_species: # if nothing is typed view all data \n",
    "        filtered_df = df\n",
    "    else:     # filter data based on species entered\n",
    "        filtered_df = df[df['species'].str.contains(searched_species, case=False)]\n",
    "\n",
    "    # build the scatter plot\n",
    "    fig = px.scatter( \n",
    "        filtered_df,\n",
    "        x='bill_length_mm',\n",
    "        y='bill_depth_mm',\n",
    "        color='species',\n",
    "    )\n",
    "    return fig\n",
    "\n",
    "\n",
    "# run app\n",
    "if __name__ == '__main__':\n",
    "    app.run(debug=True)"
   ]
  },
  {
   "cell_type": "markdown",
   "id": "a15b3c87-5401-430b-991f-7a447e5f4a5b",
   "metadata": {},
   "source": [
    "## UFC EVENT/FIGHTER ANALYZER"
   ]
  },
  {
   "cell_type": "code",
   "execution_count": 24,
   "id": "e2f291c1-6379-4f85-9c33-1e4a30058685",
   "metadata": {
    "scrolled": true
   },
   "outputs": [
    {
     "data": {
      "text/html": [
       "\n",
       "        <iframe\n",
       "            width=\"100%\"\n",
       "            height=\"650\"\n",
       "            src=\"http://127.0.0.1:8050/\"\n",
       "            frameborder=\"0\"\n",
       "            allowfullscreen\n",
       "            \n",
       "        ></iframe>\n",
       "        "
      ],
      "text/plain": [
       "<IPython.lib.display.IFrame at 0x7fa4b22a9030>"
      ]
     },
     "metadata": {},
     "output_type": "display_data"
    }
   ],
   "source": [
    "from dash import Dash, dash_table, dcc, html, Input, Output\n",
    "import pandas as pd\n",
    "import plotly.express as px\n",
    "\n",
    "# read ufc csv\n",
    "df = pd.read_csv('https://raw.githubusercontent.com/Greco1899/scrape_ufc_stats/refs/heads/main/ufc_fight_stats.csv')\n",
    "\n",
    "# parse data, fill na values with 0, and convert to int\n",
    "df['SIG.STR.'] = df['SIG.STR.'].str.split(' of ').str[0].fillna('0').astype(int)\n",
    "df['STR. LANDED'] = df['TOTAL STR.'].str.split(' of ').str[0].fillna('0').astype(int)\n",
    "df['STR. THROWN'] = df['TOTAL STR.'].str.split(' of ').str[1].fillna('0').astype(int)\n",
    "df['TD ATTEMPT'] = df['TD'].str.split(' of ').str[1].fillna('0').astype(int)\n",
    "df['TD LANDED'] = df['TD'].str.split(' of ').str[0].fillna('0').astype(int)\n",
    "df['SUB.ATT'] = df['SUB.ATT'].fillna(0).astype(int)\n",
    "\n",
    "# generate list of fight nights\n",
    "events = df['EVENT'].unique()\n",
    "\n",
    "# Initialize Dash app\n",
    "app = Dash()\n",
    "\n",
    "app.layout = html.Div([\n",
    "    html.Div(children='Fighter Statistics', style={'fontSize': 24, 'textAlign': 'center'}),\n",
    "    html.Hr(),\n",
    "    \n",
    "    # dropdown to select ufc event\n",
    "    dcc.Dropdown(\n",
    "        options=[{'label': event, 'value': event} for event in events],  # generate list of events for drop down menu\n",
    "        value=events[0],  # set default event to most recent\n",
    "        id='ufc-events',\n",
    "        style={'width': '50%'},\n",
    "    ),\n",
    "\n",
    "    # search bar to search for fighters\n",
    "    dcc.Input(\n",
    "        id='search-fighter',\n",
    "        type='text',\n",
    "        style={'width':'50%', 'margin': '20px 0'},\n",
    "    ),\n",
    "    \n",
    "    # all attributes to select and look at\n",
    "    dcc.RadioItems(\n",
    "        options=[{'label': 'Strikes Landed', 'value': 'STR. LANDED'},\n",
    "                 {'label': 'Strikes Thrown', 'value': 'STR. THROWN'},\n",
    "                 {'label': 'Significant Strikes', 'value': 'SIG.STR.'},\n",
    "                 {'label': 'Knockdowns', 'value': 'KD'},\n",
    "                 {'label': 'Takedowns Landed', 'value': 'TD LANDED'},\n",
    "                 {'label': 'Takedowns Attempted', 'value': 'TD ATTEMPT'},\n",
    "                 {'label': 'Submission Attempts', 'value': 'SUB.ATT'}],\n",
    "        value='STR. LANDED',  # initial value \n",
    "        id='radio-items',\n",
    "        style={'margin': '20px 0'},\n",
    "    ),\n",
    "    \n",
    "    # geneate fighter data table\n",
    "    dash_table.DataTable(\n",
    "        id='fighters-table',\n",
    "        page_size=6,\n",
    "    ),\n",
    "    \n",
    "    # generate graph\n",
    "    dcc.Graph(figure={}, id='graph')\n",
    "])\n",
    "\n",
    "# input and outputs to change data table and graph based on user input\n",
    "@app.callback(\n",
    "    [\n",
    "        Output(component_id='fighters-table', component_property='data'),\n",
    "        Output(component_id='graph', component_property='figure')\n",
    "    ],\n",
    "    [\n",
    "        Input(component_id='ufc-events', component_property='value'),\n",
    "        Input(component_id='radio-items', component_property='value'),\n",
    "        Input(component_id='search-fighter', component_property='value'),\n",
    "    ]\n",
    ")\n",
    "def update_data(selected_event, val_chosen, search_fighter):\n",
    "    \n",
    "    # if search bar is used, filter based off fighter entered\n",
    "    if search_fighter:\n",
    "        filtered_df = df[df['FIGHTER'].str.contains(search_fighter, case=False, na=False)]\n",
    "    else:\n",
    "        filtered_df = df # else use all data\n",
    "    \n",
    "    # if drop down menu is used filter based off the event selected\n",
    "    if selected_event:\n",
    "        filtered_df = filtered_df[filtered_df['EVENT'] == selected_event]\n",
    "    \n",
    "    # update data table based off selected_event or search_fighter\n",
    "    data_table = filtered_df.to_dict('records')\n",
    "\n",
    "    # if nothing is entered in either drop down menu or search bar return empty table to avoid error\n",
    "    if not search_fighter and not selected_event:\n",
    "        return data_table, {'data': []}\n",
    "    # if figher is searched display their data for all events associated\n",
    "    if search_fighter:\n",
    "        fighter_data = df[df['FIGHTER'].str.contains(search_fighter, case=False, na=False)]\n",
    "        fig = px.histogram(\n",
    "            fighter_data,\n",
    "            x='EVENT',  \n",
    "            y=val_chosen, # The selected stat on the y-axis\n",
    "            histfunc = 'sum',\n",
    "            color='FIGHTER',  # Color by fighter to distinguish different fighters\n",
    "        )\n",
    "    # if a fighter is not searched show data for all fighters on that event\n",
    "    else: \n",
    "        fighter_data = filtered_df\n",
    "        fig = px.histogram(\n",
    "            fighter_data,\n",
    "            x='FIGHTER',  \n",
    "            y=val_chosen,  \n",
    "            color='EVENT',  \n",
    "            histfunc='sum',\n",
    "        )\n",
    "\n",
    "    return data_table, fig\n",
    "\n",
    "# run app\n",
    "if __name__ == '__main__':\n",
    "    app.run(debug=True)"
   ]
  },
  {
   "cell_type": "code",
   "execution_count": null,
   "id": "becc0f95-abff-49ee-94da-77481640e0dc",
   "metadata": {},
   "outputs": [],
   "source": []
  },
  {
   "cell_type": "code",
   "execution_count": null,
   "id": "8716b1fb-226c-43dd-994e-7dcb15760145",
   "metadata": {},
   "outputs": [],
   "source": []
  },
  {
   "cell_type": "code",
   "execution_count": null,
   "id": "a21f0338-1a5e-4329-b997-fa1c4e89cf81",
   "metadata": {},
   "outputs": [],
   "source": []
  },
  {
   "cell_type": "code",
   "execution_count": null,
   "id": "dc2fa5ff-0664-4451-924d-4f35819d2166",
   "metadata": {},
   "outputs": [],
   "source": []
  }
 ],
 "metadata": {
  "kernelspec": {
   "display_name": "Python 3 (ipykernel)",
   "language": "python",
   "name": "python3"
  },
  "language_info": {
   "codemirror_mode": {
    "name": "ipython",
    "version": 3
   },
   "file_extension": ".py",
   "mimetype": "text/x-python",
   "name": "python",
   "nbconvert_exporter": "python",
   "pygments_lexer": "ipython3",
   "version": "3.10.12"
  }
 },
 "nbformat": 4,
 "nbformat_minor": 5
}
